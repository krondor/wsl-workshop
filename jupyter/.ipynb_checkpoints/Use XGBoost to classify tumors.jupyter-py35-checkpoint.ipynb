{
 "cells": [
  {
   "cell_type": "markdown",
   "metadata": {
    "deletable": true,
    "editable": true
   },
   "source": [
    "<table style=\"border: none\" align=\"left\">\n",
    "   <tr style=\"border: none\">\n",
    "      <th style=\"border: none\"><font face=\"verdana\" size=\"5\" color=\"black\"><b>Use XGBoost to classify tumors with IBM Watson Machine Learning</b></th>\n",
    "      <th style=\"border: none\"><img src=\"https://github.com/pmservice/customer-satisfaction-prediction/blob/master/app/static/images/ml_icon_gray.png?raw=true\" alt=\"Watson Machine Learning icon\" height=\"40\" width=\"40\"></th>\n",
    "   </tr>\n",
    "   <tr style=\"border: none\">\n",
    "       <th style=\"border: none\"><img src=\"https://raw.githubusercontent.com/pmservice/wml-sample-notebooks/master/images/cancer_banner-06.png\" alt=\"Icon\" width=\"700\"> </th>\n",
    "   </tr>\n",
    "</table>"
   ]
  },
  {
   "cell_type": "markdown",
   "metadata": {
    "deletable": true,
    "editable": true
   },
   "source": [
    "This notebook contains steps and code to get data from the IBM Watson Studio Community, create a predictive model, and start scoring new data. This notebook introduces commands for getting data and for basic data cleaning and exploration, model training, model persistance to Watson Machine Learning repository, model deployment, and scoring.\n",
    "\n",
    "Some familiarity with Python is helpful. This notebook uses Python 3.5, XGBoost, and scikit-learn.\n",
    "\n",
    "You will use a publicly available data set, the Breast Cancer Wisconsin (Diagnostic) Data Set, to train an XGBoost Model to classify breast cancer tumors (as benign or malignant) from 569 diagnostic images based on measurements such as radius, texture, perimeter and area. XGBoost is short for “E**x**treme **G**radient **Boost**ing”.\n",
    "\n",
    "The XGBoost classifier makes its predictions based on the majority vote from collection of models which are a set of classification trees. It uses the combination of weak learners to create a single strong learner. It’s a sequential training process, whereby new learners focus on the misclassified examples of previous learners.\n",
    "\n",
    "\n",
    "## Learning goals\n",
    "\n",
    "You will learn how to:\n",
    "\n",
    "-  Load a CSV file into numpy array\n",
    "-  Explore data\n",
    "-  Prepare data for training and evaluation\n",
    "-  Create an XGBoost machine learning model\n",
    "-  Train and evaluate a model\n",
    "-  Use cross-validation to optimize model's hyperparameters\n",
    "-  Persist a model in Watson Machine Learning repository\n",
    "-  Deploy a model for online scoring\n",
    "-  Score sample data\n",
    "\n",
    "\n",
    "## Contents\n",
    "\n",
    "This notebook contains the following parts:\n",
    "\n",
    "1.\t[Set up the environment](#setup)\n",
    "2.\t[Load and explore the data](#load)\n",
    "3.\t[Create the XGBoost model](#model)\n",
    "4.\t[Persist model](#persistence)\n",
    "5.\t[Deploy and score in a Cloud](#scoring)\n",
    "6.\t[Summary and next steps](#summary)"
   ]
  },
  {
   "cell_type": "markdown",
   "metadata": {
    "deletable": true,
    "editable": true
   },
   "source": [
    "<a id=\"setup\"></a>\n",
    "## 1. Set up the environment\n",
    "\n",
    "Before you use the sample code in this notebook, you have to perform the following setup tasks:\n",
    "\n",
    "- Create a [Watson Machine Learning (WML) Service](https://console.ng.bluemix.net/catalog/services/ibm-watson-machine-learning/) instance (a free plan is offered and information about how to create the instance is [here](https://dataplatform.ibm.com/docs/content/analyze-data/wml-setup.html))\n",
    "-  Download **Breast Cancer Wisconsin (Diagnostic) Data Set** dataset from Watson Studio [Community](https://dataplatform.ibm.com/community?context=analytics).\n",
    "\n",
    "**Note:** We provide the code to download data set, see [step 2](#load)."
   ]
  },
  {
   "cell_type": "markdown",
   "metadata": {
    "deletable": true,
    "editable": true
   },
   "source": [
    "<a id=\"load\"></a>\n",
    "## 2. Load and explore the data"
   ]
  },
  {
   "cell_type": "markdown",
   "metadata": {
    "deletable": true,
    "editable": true
   },
   "source": [
    "In this section you will load the data as a numpy array and perform a basic exploration.\n",
    "\n",
    "To load the data as a numpy array, user `wget` to download the data, then use the `genfromtxt` method to read the data."
   ]
  },
  {
   "cell_type": "markdown",
   "metadata": {
    "deletable": true,
    "editable": true
   },
   "source": [
    "**Example**: First, you need to install the required packages. You can do this by running the following code. Run it only one time.<BR><BR>"
   ]
  },
  {
   "cell_type": "code",
   "execution_count": 1,
   "metadata": {
    "collapsed": false,
    "deletable": true,
    "editable": true
   },
   "outputs": [
    {
     "name": "stdout",
     "output_type": "stream",
     "text": [
      "Requirement already up-to-date: wget in /opt/conda3/lib/python3.5/site-packages (3.2)\n",
      "\u001b[33mYou are using pip version 18.0, however version 18.1 is available.\n",
      "You should consider upgrading via the 'pip install --upgrade pip' command.\u001b[0m\n"
     ]
    }
   ],
   "source": [
    "!pip install wget --upgrade"
   ]
  },
  {
   "cell_type": "code",
   "execution_count": 61,
   "metadata": {
    "collapsed": false,
    "deletable": true,
    "editable": true
   },
   "outputs": [
    {
     "data": {
      "text/html": [
       "<div>\n",
       "<style>\n",
       "    .dataframe thead tr:only-child th {\n",
       "        text-align: right;\n",
       "    }\n",
       "\n",
       "    .dataframe thead th {\n",
       "        text-align: left;\n",
       "    }\n",
       "\n",
       "    .dataframe tbody tr th {\n",
       "        vertical-align: top;\n",
       "    }\n",
       "</style>\n",
       "<table border=\"1\" class=\"dataframe\">\n",
       "  <thead>\n",
       "    <tr style=\"text-align: right;\">\n",
       "      <th></th>\n",
       "      <th>id</th>\n",
       "      <th>diagnosis</th>\n",
       "      <th>radius_mean</th>\n",
       "      <th>texture_mean</th>\n",
       "      <th>perimeter_mean</th>\n",
       "      <th>area_mean</th>\n",
       "      <th>smoothness_mean</th>\n",
       "      <th>compactness_mean</th>\n",
       "      <th>concavity_mean</th>\n",
       "      <th>concave points_mean</th>\n",
       "      <th>...</th>\n",
       "      <th>radius_worst</th>\n",
       "      <th>texture_worst</th>\n",
       "      <th>perimeter_worst</th>\n",
       "      <th>area_worst</th>\n",
       "      <th>smoothness_worst</th>\n",
       "      <th>compactness_worst</th>\n",
       "      <th>concavity_worst</th>\n",
       "      <th>concave points_worst</th>\n",
       "      <th>symmetry_worst</th>\n",
       "      <th>fractal_dimension_worst</th>\n",
       "    </tr>\n",
       "  </thead>\n",
       "  <tbody>\n",
       "    <tr>\n",
       "      <th>0</th>\n",
       "      <td>8670</td>\n",
       "      <td>M</td>\n",
       "      <td>15.46</td>\n",
       "      <td>19.48</td>\n",
       "      <td>101.70</td>\n",
       "      <td>748.9</td>\n",
       "      <td>0.10920</td>\n",
       "      <td>0.12230</td>\n",
       "      <td>0.14660</td>\n",
       "      <td>0.08087</td>\n",
       "      <td>...</td>\n",
       "      <td>19.26</td>\n",
       "      <td>26.00</td>\n",
       "      <td>124.90</td>\n",
       "      <td>1156.0</td>\n",
       "      <td>0.15460</td>\n",
       "      <td>0.2394</td>\n",
       "      <td>0.3791</td>\n",
       "      <td>0.15140</td>\n",
       "      <td>0.2837</td>\n",
       "      <td>0.08019</td>\n",
       "    </tr>\n",
       "    <tr>\n",
       "      <th>1</th>\n",
       "      <td>8913</td>\n",
       "      <td>B</td>\n",
       "      <td>12.89</td>\n",
       "      <td>13.12</td>\n",
       "      <td>81.89</td>\n",
       "      <td>515.9</td>\n",
       "      <td>0.06955</td>\n",
       "      <td>0.03729</td>\n",
       "      <td>0.02260</td>\n",
       "      <td>0.01171</td>\n",
       "      <td>...</td>\n",
       "      <td>13.62</td>\n",
       "      <td>15.54</td>\n",
       "      <td>87.40</td>\n",
       "      <td>577.0</td>\n",
       "      <td>0.09616</td>\n",
       "      <td>0.1147</td>\n",
       "      <td>0.1186</td>\n",
       "      <td>0.05366</td>\n",
       "      <td>0.2309</td>\n",
       "      <td>0.06915</td>\n",
       "    </tr>\n",
       "    <tr>\n",
       "      <th>2</th>\n",
       "      <td>8915</td>\n",
       "      <td>B</td>\n",
       "      <td>14.96</td>\n",
       "      <td>19.10</td>\n",
       "      <td>97.03</td>\n",
       "      <td>687.3</td>\n",
       "      <td>0.08992</td>\n",
       "      <td>0.09823</td>\n",
       "      <td>0.05940</td>\n",
       "      <td>0.04819</td>\n",
       "      <td>...</td>\n",
       "      <td>16.25</td>\n",
       "      <td>26.19</td>\n",
       "      <td>109.10</td>\n",
       "      <td>809.8</td>\n",
       "      <td>0.13130</td>\n",
       "      <td>0.3030</td>\n",
       "      <td>0.1804</td>\n",
       "      <td>0.14890</td>\n",
       "      <td>0.2962</td>\n",
       "      <td>0.08472</td>\n",
       "    </tr>\n",
       "    <tr>\n",
       "      <th>3</th>\n",
       "      <td>9047</td>\n",
       "      <td>B</td>\n",
       "      <td>12.94</td>\n",
       "      <td>16.17</td>\n",
       "      <td>83.18</td>\n",
       "      <td>507.6</td>\n",
       "      <td>0.09879</td>\n",
       "      <td>0.08836</td>\n",
       "      <td>0.03296</td>\n",
       "      <td>0.02390</td>\n",
       "      <td>...</td>\n",
       "      <td>13.86</td>\n",
       "      <td>23.02</td>\n",
       "      <td>89.69</td>\n",
       "      <td>580.9</td>\n",
       "      <td>0.11720</td>\n",
       "      <td>0.1958</td>\n",
       "      <td>0.1810</td>\n",
       "      <td>0.08388</td>\n",
       "      <td>0.3297</td>\n",
       "      <td>0.07834</td>\n",
       "    </tr>\n",
       "    <tr>\n",
       "      <th>4</th>\n",
       "      <td>85715</td>\n",
       "      <td>M</td>\n",
       "      <td>13.17</td>\n",
       "      <td>18.66</td>\n",
       "      <td>85.98</td>\n",
       "      <td>534.6</td>\n",
       "      <td>0.11580</td>\n",
       "      <td>0.12310</td>\n",
       "      <td>0.12260</td>\n",
       "      <td>0.07340</td>\n",
       "      <td>...</td>\n",
       "      <td>15.67</td>\n",
       "      <td>27.95</td>\n",
       "      <td>102.80</td>\n",
       "      <td>759.4</td>\n",
       "      <td>0.17860</td>\n",
       "      <td>0.4166</td>\n",
       "      <td>0.5006</td>\n",
       "      <td>0.20880</td>\n",
       "      <td>0.3900</td>\n",
       "      <td>0.11790</td>\n",
       "    </tr>\n",
       "  </tbody>\n",
       "</table>\n",
       "<p>5 rows × 32 columns</p>\n",
       "</div>"
      ],
      "text/plain": [
       "      id diagnosis  radius_mean  texture_mean  perimeter_mean  area_mean  \\\n",
       "0   8670         M        15.46         19.48          101.70      748.9   \n",
       "1   8913         B        12.89         13.12           81.89      515.9   \n",
       "2   8915         B        14.96         19.10           97.03      687.3   \n",
       "3   9047         B        12.94         16.17           83.18      507.6   \n",
       "4  85715         M        13.17         18.66           85.98      534.6   \n",
       "\n",
       "   smoothness_mean  compactness_mean  concavity_mean  concave points_mean  \\\n",
       "0          0.10920           0.12230         0.14660              0.08087   \n",
       "1          0.06955           0.03729         0.02260              0.01171   \n",
       "2          0.08992           0.09823         0.05940              0.04819   \n",
       "3          0.09879           0.08836         0.03296              0.02390   \n",
       "4          0.11580           0.12310         0.12260              0.07340   \n",
       "\n",
       "            ...             radius_worst  texture_worst  perimeter_worst  \\\n",
       "0           ...                    19.26          26.00           124.90   \n",
       "1           ...                    13.62          15.54            87.40   \n",
       "2           ...                    16.25          26.19           109.10   \n",
       "3           ...                    13.86          23.02            89.69   \n",
       "4           ...                    15.67          27.95           102.80   \n",
       "\n",
       "   area_worst  smoothness_worst  compactness_worst  concavity_worst  \\\n",
       "0      1156.0           0.15460             0.2394           0.3791   \n",
       "1       577.0           0.09616             0.1147           0.1186   \n",
       "2       809.8           0.13130             0.3030           0.1804   \n",
       "3       580.9           0.11720             0.1958           0.1810   \n",
       "4       759.4           0.17860             0.4166           0.5006   \n",
       "\n",
       "   concave points_worst  symmetry_worst  fractal_dimension_worst  \n",
       "0               0.15140          0.2837                  0.08019  \n",
       "1               0.05366          0.2309                  0.06915  \n",
       "2               0.14890          0.2962                  0.08472  \n",
       "3               0.08388          0.3297                  0.07834  \n",
       "4               0.20880          0.3900                  0.11790  \n",
       "\n",
       "[5 rows x 32 columns]"
      ]
     },
     "execution_count": 61,
     "metadata": {},
     "output_type": "execute_result"
    }
   ],
   "source": [
    "\n",
    "\n",
    "import os, pandas as pd\n",
    "# Add asset from file system\n",
    "df_data_1 = pd.read_csv(os.environ['DSX_PROJECT_DIR']+'/datasets/output_spss.csv')\n",
    "df_data_1.head()\n",
    "\n"
   ]
  },
  {
   "cell_type": "code",
   "execution_count": 66,
   "metadata": {
    "collapsed": false
   },
   "outputs": [
    {
     "name": "stdout",
     "output_type": "stream",
     "text": [
      "+---------+---------+-----------+------------+--------------+---------+---------------+----------------+--------------+-------------------+-------------+----------------------+---------+----------+------------+-------+-------------+--------------+------------+-----------------+-----------+--------------------+------------+-------------+---------------+----------+----------------+-----------------+---------------+--------------------+--------------+-----------------------+\n",
      "|       id|diagnosis|radius_mean|texture_mean|perimeter_mean|area_mean|smoothness_mean|compactness_mean|concavity_mean|concave_points_mean|symmetry_mean|fractal_dimension_mean|radius_se|texture_se|perimeter_se|area_se|smoothness_se|compactness_se|concavity_se|concave_points_se|symmetry_se|fractal_dimension_se|radius_worst|texture_worst|perimeter_worst|area_worst|smoothness_worst|compactness_worst|concavity_worst|concave_points_worst|symmetry_worst|fractal_dimension_worst|\n",
      "+---------+---------+-----------+------------+--------------+---------+---------------+----------------+--------------+-------------------+-------------+----------------------+---------+----------+------------+-------+-------------+--------------+------------+-----------------+-----------+--------------------+------------+-------------+---------------+----------+----------------+-----------------+---------------+--------------------+--------------+-----------------------+\n",
      "|   911150|        B|     14.530|       19.34|         94.25|    659.7|        0.08388|         0.07800|     0.0881700|           0.029250|       0.1473|               0.05746|   0.2535|    1.3540|      1.9940| 23.040|     0.004147|      0.020480|   0.0337900|         0.008848|   0.013940|           0.0023270|      16.300|        28.39|         108.10|     830.5|         0.10890|          0.26490|       0.377900|            0.095940|        0.2471|                0.07463|\n",
      "|911157302|        M|     21.100|       20.52|        138.10|   1384.0|        0.09684|         0.11750|     0.1572000|           0.115500|       0.1554|               0.05661|   0.6643|    1.3610|      4.5420| 81.890|     0.005467|      0.020750|   0.0318500|         0.014660|   0.010290|           0.0022050|      25.680|        32.07|         168.20|    2022.0|         0.13680|          0.31010|       0.439900|            0.228000|        0.2268|                0.07425|\n",
      "|  9111596|        B|     11.870|       21.54|         76.83|    432.0|        0.06613|         0.10640|     0.0877700|           0.023860|       0.1349|               0.06612|   0.2560|    1.5540|      1.9550| 20.240|     0.006854|      0.060630|   0.0666300|         0.015530|   0.023540|           0.0089250|      12.790|        28.18|          83.51|     507.2|         0.09457|          0.33990|       0.321800|            0.087500|        0.2305|                0.09952|\n",
      "|  9111805|        M|     19.590|       25.00|        127.70|   1191.0|        0.10320|         0.09871|     0.1655000|           0.090630|       0.1663|               0.05391|   0.4674|    1.3750|      2.9160| 56.180|     0.011900|      0.019290|   0.0490700|         0.014990|   0.016410|           0.0018070|      21.440|        30.96|         139.80|    1421.0|         0.15280|          0.18450|       0.397700|            0.146600|        0.2293|                0.06091|\n",
      "|  9111843|        B|     12.000|       28.23|         76.77|    442.5|        0.08437|         0.06450|     0.0405500|           0.019450|       0.1615|               0.06104|   0.1912|    1.7050|      1.5160| 13.860|     0.007334|      0.025890|   0.0294100|         0.009166|   0.017450|           0.0043020|      13.090|        37.88|          85.07|     523.7|         0.12080|          0.18560|       0.181100|            0.071160|        0.2447|                0.08194|\n",
      "+---------+---------+-----------+------------+--------------+---------+---------------+----------------+--------------+-------------------+-------------+----------------------+---------+----------+------------+-------+-------------+--------------+------------+-----------------+-----------+--------------------+------------+-------------+---------------+----------+----------------+-----------------+---------------+--------------------+--------------+-----------------------+\n",
      "only showing top 5 rows\n",
      "\n"
     ]
    }
   ],
   "source": [
    "\n",
    "\n",
    "import dsx_core_utils, requests, os, io\n",
    "from pyspark.sql import SparkSession\n",
    "# Add asset from remote connection\n",
    "df1 = None\n",
    "dataSet = dsx_core_utils.get_remote_data_set_info('BreastCancerDB')\n",
    "dataSource = dsx_core_utils.get_data_source_info(dataSet['datasource'])\n",
    "sparkSession = SparkSession(sc).builder.getOrCreate()\n",
    "# Load JDBC data to Spark dataframe\n",
    "dbTableOrQuery = (dataSet['schema'] + '.' if(len(dataSet['schema'].strip()) != 0) else '') + dataSet['table']\n",
    "if (dataSet['query']):\n",
    "    dbTableOrQuery = \"(\" + dataSet['query'] + \") TBL\"\n",
    "df1 = sparkSession.read.format(\"jdbc\").option(\"url\", dataSource['URL']).option(\"dbtable\", dbTableOrQuery).option(\"user\",dataSource['user']).option(\"password\",dataSource['password']).load()\n",
    "df1.show(5)\n",
    "\n",
    "\n"
   ]
  },
  {
   "cell_type": "code",
   "execution_count": null,
   "metadata": {
    "collapsed": true
   },
   "outputs": [],
   "source": []
  },
  {
   "cell_type": "code",
   "execution_count": 2,
   "metadata": {
    "collapsed": false,
    "deletable": true,
    "editable": true
   },
   "outputs": [
    {
     "name": "stdout",
     "output_type": "stream",
     "text": [
      "BreastCancerWisconsinDataSet.csv\n"
     ]
    }
   ],
   "source": [
    "# Get the data.\n",
    "import wget, os\n",
    "\n",
    "WisconsinDataSet = 'BreastCancerWisconsinDataSet.csv' \n",
    "if not os.path.isfile(WisconsinDataSet):\n",
    "    link_to_data = 'https://apsportal.ibm.com/exchange-api/v1/entries/c173693bf48aeb22e41bbe2b41d79c1f/data?accessKey=941eec501eadcdceb5abd25cf7c029d5'\n",
    "    WisconsinDataSet = wget.download(link_to_data)\n",
    "\n",
    "print(WisconsinDataSet)"
   ]
  },
  {
   "cell_type": "markdown",
   "metadata": {
    "deletable": true,
    "editable": true
   },
   "source": [
    "The csv file **BreastCancerWisconsinDataSet.csv** is downloaded. Run the code in the next cells to load the file to the numpy array."
   ]
  },
  {
   "cell_type": "markdown",
   "metadata": {
    "deletable": true,
    "editable": true
   },
   "source": [
    "**Note:** Update `numpy` to ensure you have the latest version."
   ]
  },
  {
   "cell_type": "code",
   "execution_count": 3,
   "metadata": {
    "collapsed": false,
    "deletable": true,
    "editable": true
   },
   "outputs": [
    {
     "name": "stdout",
     "output_type": "stream",
     "text": [
      "Collecting numpy\n",
      "\u001b[?25l  Downloading https://files.pythonhosted.org/packages/75/22/355e68c80802d6f488223788fbda75c1daab83c3ef609153676c1f17be5f/numpy-1.15.2-cp35-cp35m-manylinux1_x86_64.whl (13.8MB)\n",
      "\u001b[K    100% |████████████████████████████████| 13.8MB 512kB/s eta 0:00:010:0101[K    42% |█████████████▋                  | 5.9MB 49.5MB/s eta 0:00:01      | 8.5MB 38.3MB/s eta 0:00:01�███████       | 10.8MB 44.9MB/s eta 0:00:01███████████▋ | 13.2MB 32.8MB/s eta 0:00:01\n",
      "\u001b[31mmxnet 1.2.1 has requirement graphviz<0.9.0,>=0.8.1, but you'll have graphviz 0.9 which is incompatible.\u001b[0m\n",
      "\u001b[31mmxnet 1.2.1 has requirement numpy<1.15.0,>=1.8.2, but you'll have numpy 1.15.2 which is incompatible.\u001b[0m\n",
      "\u001b[31mqiskit-acqua 0.1.2 has requirement numpy<1.15,>=1.13, but you'll have numpy 1.15.2 which is incompatible.\u001b[0m\n",
      "\u001b[?25hInstalling collected packages: numpy\n",
      "  Found existing installation: numpy 1.14.5\n",
      "    Uninstalling numpy-1.14.5:\n",
      "      Successfully uninstalled numpy-1.14.5\n",
      "Successfully installed numpy-1.15.2\n",
      "\u001b[33mYou are using pip version 18.0, however version 18.1 is available.\n",
      "You should consider upgrading via the 'pip install --upgrade pip' command.\u001b[0m\n"
     ]
    }
   ],
   "source": [
    "# Run this code to upgrade numpy.\n",
    "!pip install numpy --upgrade"
   ]
  },
  {
   "cell_type": "code",
   "execution_count": 64,
   "metadata": {
    "collapsed": false,
    "deletable": true,
    "editable": true
   },
   "outputs": [
    {
     "name": "stdout",
     "output_type": "stream",
     "text": [
      "(842302, 'M', 17.99, 10.38, 122.8, 1001., 0.1184, 0.2776, 0.3001, 0.1471, 0.2419, 0.07871, 1.095, 0.9053, 8.589, 153.4, 0.006399, 0.04904, 0.05373, 0.01587, 0.03003, 0.006193, 25.38, 17.33, 184.6, 2019., 0.1622, 0.6656, 0.7119, 0.2654, 0.4601, 0.1189)\n"
     ]
    }
   ],
   "source": [
    "import numpy as np\n",
    "\n",
    "\n",
    "np_data = np.genfromtxt(WisconsinDataSet, delimiter=',', names=True, dtype=None, encoding='utf-8')\n",
    "print(np_data[0])"
   ]
  },
  {
   "cell_type": "markdown",
   "metadata": {
    "deletable": true,
    "editable": true
   },
   "source": [
    "Run the code in the next cell to view the feature names and data storage types."
   ]
  },
  {
   "cell_type": "code",
   "execution_count": 65,
   "metadata": {
    "collapsed": false,
    "deletable": true,
    "editable": true
   },
   "outputs": [
    {
     "name": "stdout",
     "output_type": "stream",
     "text": [
      "[('id', '<i8'), ('diagnosis', '<U1'), ('radius_mean', '<f8'), ('texture_mean', '<f8'), ('perimeter_mean', '<f8'), ('area_mean', '<f8'), ('smoothness_mean', '<f8'), ('compactness_mean', '<f8'), ('concavity_mean', '<f8'), ('concave_points_mean', '<f8'), ('symmetry_mean', '<f8'), ('fractal_dimension_mean', '<f8'), ('radius_se', '<f8'), ('texture_se', '<f8'), ('perimeter_se', '<f8'), ('area_se', '<f8'), ('smoothness_se', '<f8'), ('compactness_se', '<f8'), ('concavity_se', '<f8'), ('concave_points_se', '<f8'), ('symmetry_se', '<f8'), ('fractal_dimension_se', '<f8'), ('radius_worst', '<f8'), ('texture_worst', '<f8'), ('perimeter_worst', '<f8'), ('area_worst', '<f8'), ('smoothness_worst', '<f8'), ('compactness_worst', '<f8'), ('concavity_worst', '<f8'), ('concave_points_worst', '<f8'), ('symmetry_worst', '<f8'), ('fractal_dimension_worst', '<f8')]\n"
     ]
    }
   ],
   "source": [
    "# Display the feature names and data storage types.\n",
    "print(np_data.dtype)"
   ]
  },
  {
   "cell_type": "code",
   "execution_count": 6,
   "metadata": {
    "collapsed": false,
    "deletable": true,
    "editable": true
   },
   "outputs": [
    {
     "name": "stdout",
     "output_type": "stream",
     "text": [
      "Number of rows: 569\n",
      "Number of columns: 32\n"
     ]
    }
   ],
   "source": [
    "# Display the number of records and features.\n",
    "print('Number of rows: {}'.format(np_data.size))\n",
    "print('Number of columns: {}'.format(len(np_data[0])))"
   ]
  },
  {
   "cell_type": "markdown",
   "metadata": {
    "deletable": true,
    "editable": true
   },
   "source": [
    "You can see that the data set has 569 records and 32 features."
   ]
  },
  {
   "cell_type": "markdown",
   "metadata": {
    "deletable": true,
    "editable": true
   },
   "source": [
    "<a id=\"model\"></a>\n",
    "## 3. Create an XGBoost model\n",
    "\n",
    "In this section you will learn how to train and test an XGBoost model.\n",
    "\n",
    "- [3.1. Prepare the data](#prepare)\n",
    "- [3.2. Create the XGBoost model](#create)"
   ]
  },
  {
   "cell_type": "markdown",
   "metadata": {
    "deletable": true,
    "editable": true
   },
   "source": [
    "### 3.1. Prepare data<a id=\"prepare\"></a>"
   ]
  },
  {
   "cell_type": "markdown",
   "metadata": {
    "deletable": true,
    "editable": true
   },
   "source": [
    "Now, you can prepare your data for model building. You will use the `diagnosis` column as your target variable so you must remove it from the set of predictors. You must also remove the `id` variable."
   ]
  },
  {
   "cell_type": "code",
   "execution_count": 7,
   "metadata": {
    "collapsed": true,
    "deletable": true,
    "editable": true
   },
   "outputs": [],
   "source": [
    "y = 1.0*(np_data['diagnosis'] == 'M')\n",
    "X = np.array([list(r)[2:] for r in np_data])"
   ]
  },
  {
   "cell_type": "markdown",
   "metadata": {
    "deletable": true,
    "editable": true
   },
   "source": [
    "Split the data set into: \n",
    "- Train data set\n",
    "- Test data set"
   ]
  },
  {
   "cell_type": "code",
   "execution_count": 11,
   "metadata": {
    "collapsed": false,
    "deletable": true,
    "editable": true
   },
   "outputs": [],
   "source": [
    "# Split the data set and create two data sets.\n",
    "from sklearn.model_selection import train_test_split\n",
    "\n",
    "X_train, X_test, y_train, y_test = train_test_split(X, y, test_size=0.35, random_state=143)"
   ]
  },
  {
   "cell_type": "code",
   "execution_count": 12,
   "metadata": {
    "collapsed": false,
    "deletable": true,
    "editable": true
   },
   "outputs": [
    {
     "name": "stdout",
     "output_type": "stream",
     "text": [
      "Number of training records: 369\n",
      "Number of testing records : 200\n"
     ]
    }
   ],
   "source": [
    "# List the number of records in each data set.\n",
    "print(\"Number of training records: \" + str(X_train.shape[0]))\n",
    "print(\"Number of testing records : \" + str(X_test.shape[0]))"
   ]
  },
  {
   "cell_type": "markdown",
   "metadata": {
    "deletable": true,
    "editable": true
   },
   "source": [
    "The data has been successfully split into two data sets:\n",
    "- The train data set, which is the largest group, will be used for training\n",
    "- The test data set will be used for model evaluation and is used to test the assumptions of the model"
   ]
  },
  {
   "cell_type": "markdown",
   "metadata": {
    "deletable": true,
    "editable": true
   },
   "source": [
    "### 3.2. Create the XGBoost model<a id=\"create\"></a>"
   ]
  },
  {
   "cell_type": "markdown",
   "metadata": {
    "deletable": true,
    "editable": true
   },
   "source": [
    "Start by importing the necessary libraries."
   ]
  },
  {
   "cell_type": "code",
   "execution_count": 14,
   "metadata": {
    "collapsed": false,
    "deletable": true,
    "editable": true
   },
   "outputs": [],
   "source": [
    "# Import the libraries you need to create the XGBoost model.\n",
    "from xgboost.sklearn import XGBClassifier\n",
    "from sklearn.model_selection import GridSearchCV\n",
    "from sklearn.metrics import accuracy_score"
   ]
  },
  {
   "cell_type": "markdown",
   "metadata": {
    "deletable": true,
    "editable": true
   },
   "source": [
    "#### 3.2.1. Create an XGBoost classifier"
   ]
  },
  {
   "cell_type": "markdown",
   "metadata": {
    "deletable": true,
    "editable": true
   },
   "source": [
    "In this section you create an XGBoost classifier with default hyperparameter values and you will call it *xgb_model*. \n",
    "\n",
    "**Note** The next sections show you how to improve this base model."
   ]
  },
  {
   "cell_type": "code",
   "execution_count": 15,
   "metadata": {
    "collapsed": true,
    "deletable": true,
    "editable": true
   },
   "outputs": [],
   "source": [
    "# Create the XGB classifier, xgb_model.\n",
    "xgb_model = XGBClassifier()"
   ]
  },
  {
   "cell_type": "markdown",
   "metadata": {
    "deletable": true,
    "editable": true
   },
   "source": [
    "Display the default parameters for *xgb_model*."
   ]
  },
  {
   "cell_type": "code",
   "execution_count": 16,
   "metadata": {
    "collapsed": false,
    "deletable": true,
    "editable": true
   },
   "outputs": [
    {
     "name": "stdout",
     "output_type": "stream",
     "text": [
      "{'colsample_bylevel': 1, 'gamma': 0, 'colsample_bytree': 1, 'learning_rate': 0.1, 'reg_alpha': 0, 'reg_lambda': 1, 'min_child_weight': 1, 'booster': 'gbtree', 'base_score': 0.5, 'seed': 0, 'scale_pos_weight': 1, 'max_delta_step': 0, 'silent': 1, 'n_estimators': 100, 'max_depth': 3, 'objective': 'binary:logistic', 'missing': None, 'nthread': 1, 'subsample': 1}\n"
     ]
    }
   ],
   "source": [
    "# List the default parameters.\n",
    "print(xgb_model.get_xgb_params())"
   ]
  },
  {
   "cell_type": "markdown",
   "metadata": {
    "deletable": true,
    "editable": true
   },
   "source": [
    "Now that your XGBoost classifier, *xgb_model*, is set up, you can train it by invoking the fit method. You will also evaluate *xgb_model* while the train and test data are being trained."
   ]
  },
  {
   "cell_type": "code",
   "execution_count": 17,
   "metadata": {
    "collapsed": false,
    "deletable": true,
    "editable": true,
    "scrolled": false
   },
   "outputs": [
    {
     "name": "stdout",
     "output_type": "stream",
     "text": [
      "[0]\tvalidation_0-error:0.02168\tvalidation_1-error:0.05\n",
      "[1]\tvalidation_0-error:0.01897\tvalidation_1-error:0.05\n",
      "[2]\tvalidation_0-error:0.01897\tvalidation_1-error:0.05\n",
      "[3]\tvalidation_0-error:0.01897\tvalidation_1-error:0.05\n",
      "[4]\tvalidation_0-error:0.01897\tvalidation_1-error:0.05\n",
      "[5]\tvalidation_0-error:0.01897\tvalidation_1-error:0.05\n",
      "[6]\tvalidation_0-error:0.01897\tvalidation_1-error:0.05\n",
      "[7]\tvalidation_0-error:0.01626\tvalidation_1-error:0.05\n",
      "[8]\tvalidation_0-error:0.01355\tvalidation_1-error:0.05\n",
      "[9]\tvalidation_0-error:0.01084\tvalidation_1-error:0.05\n",
      "[10]\tvalidation_0-error:0.01084\tvalidation_1-error:0.05\n",
      "[11]\tvalidation_0-error:0.01084\tvalidation_1-error:0.05\n",
      "[12]\tvalidation_0-error:0.01084\tvalidation_1-error:0.05\n",
      "[13]\tvalidation_0-error:0.01084\tvalidation_1-error:0.05\n",
      "[14]\tvalidation_0-error:0.01084\tvalidation_1-error:0.05\n",
      "[15]\tvalidation_0-error:0.00813\tvalidation_1-error:0.05\n",
      "[16]\tvalidation_0-error:0.01084\tvalidation_1-error:0.05\n",
      "[17]\tvalidation_0-error:0.01084\tvalidation_1-error:0.04\n",
      "[18]\tvalidation_0-error:0.00813\tvalidation_1-error:0.04\n",
      "[19]\tvalidation_0-error:0.00813\tvalidation_1-error:0.04\n",
      "[20]\tvalidation_0-error:0.00813\tvalidation_1-error:0.04\n",
      "[21]\tvalidation_0-error:0.00813\tvalidation_1-error:0.04\n",
      "[22]\tvalidation_0-error:0.00813\tvalidation_1-error:0.04\n",
      "[23]\tvalidation_0-error:0.00813\tvalidation_1-error:0.04\n",
      "[24]\tvalidation_0-error:0.00542\tvalidation_1-error:0.04\n",
      "[25]\tvalidation_0-error:0.00542\tvalidation_1-error:0.04\n",
      "[26]\tvalidation_0-error:0.00542\tvalidation_1-error:0.04\n",
      "[27]\tvalidation_0-error:0.00813\tvalidation_1-error:0.04\n",
      "[28]\tvalidation_0-error:0.00542\tvalidation_1-error:0.04\n",
      "[29]\tvalidation_0-error:0.00542\tvalidation_1-error:0.04\n",
      "[30]\tvalidation_0-error:0.00542\tvalidation_1-error:0.04\n",
      "[31]\tvalidation_0-error:0.00542\tvalidation_1-error:0.04\n",
      "[32]\tvalidation_0-error:0.00542\tvalidation_1-error:0.04\n",
      "[33]\tvalidation_0-error:0.00542\tvalidation_1-error:0.04\n",
      "[34]\tvalidation_0-error:0.00542\tvalidation_1-error:0.04\n",
      "[35]\tvalidation_0-error:0.00542\tvalidation_1-error:0.045\n",
      "[36]\tvalidation_0-error:0.00542\tvalidation_1-error:0.045\n",
      "[37]\tvalidation_0-error:0.00542\tvalidation_1-error:0.045\n",
      "[38]\tvalidation_0-error:0.00542\tvalidation_1-error:0.045\n",
      "[39]\tvalidation_0-error:0.00542\tvalidation_1-error:0.045\n",
      "[40]\tvalidation_0-error:0.00542\tvalidation_1-error:0.04\n",
      "[41]\tvalidation_0-error:0.00542\tvalidation_1-error:0.045\n",
      "[42]\tvalidation_0-error:0.00542\tvalidation_1-error:0.04\n",
      "[43]\tvalidation_0-error:0.00542\tvalidation_1-error:0.04\n",
      "[44]\tvalidation_0-error:0.00542\tvalidation_1-error:0.04\n",
      "[45]\tvalidation_0-error:0.00542\tvalidation_1-error:0.04\n",
      "[46]\tvalidation_0-error:0.00542\tvalidation_1-error:0.04\n",
      "[47]\tvalidation_0-error:0.00542\tvalidation_1-error:0.04\n",
      "[48]\tvalidation_0-error:0.00542\tvalidation_1-error:0.04\n",
      "[49]\tvalidation_0-error:0.00542\tvalidation_1-error:0.04\n",
      "[50]\tvalidation_0-error:0.00542\tvalidation_1-error:0.04\n",
      "[51]\tvalidation_0-error:0.00542\tvalidation_1-error:0.04\n",
      "[52]\tvalidation_0-error:0.00542\tvalidation_1-error:0.04\n",
      "[53]\tvalidation_0-error:0.00542\tvalidation_1-error:0.04\n",
      "[54]\tvalidation_0-error:0.00542\tvalidation_1-error:0.04\n",
      "[55]\tvalidation_0-error:0.00542\tvalidation_1-error:0.045\n",
      "[56]\tvalidation_0-error:0.00271\tvalidation_1-error:0.04\n",
      "[57]\tvalidation_0-error:0.00271\tvalidation_1-error:0.04\n",
      "[58]\tvalidation_0-error:0.00271\tvalidation_1-error:0.045\n",
      "[59]\tvalidation_0-error:0.00271\tvalidation_1-error:0.045\n",
      "[60]\tvalidation_0-error:0.00271\tvalidation_1-error:0.05\n",
      "[61]\tvalidation_0-error:0.00271\tvalidation_1-error:0.045\n",
      "[62]\tvalidation_0-error:0.00271\tvalidation_1-error:0.045\n",
      "[63]\tvalidation_0-error:0.00271\tvalidation_1-error:0.05\n",
      "[64]\tvalidation_0-error:0\tvalidation_1-error:0.05\n",
      "[65]\tvalidation_0-error:0\tvalidation_1-error:0.05\n",
      "[66]\tvalidation_0-error:0\tvalidation_1-error:0.05\n",
      "[67]\tvalidation_0-error:0\tvalidation_1-error:0.05\n",
      "[68]\tvalidation_0-error:0\tvalidation_1-error:0.05\n",
      "[69]\tvalidation_0-error:0\tvalidation_1-error:0.05\n",
      "[70]\tvalidation_0-error:0\tvalidation_1-error:0.05\n",
      "[71]\tvalidation_0-error:0\tvalidation_1-error:0.05\n",
      "[72]\tvalidation_0-error:0\tvalidation_1-error:0.05\n",
      "[73]\tvalidation_0-error:0\tvalidation_1-error:0.05\n",
      "[74]\tvalidation_0-error:0\tvalidation_1-error:0.05\n",
      "[75]\tvalidation_0-error:0\tvalidation_1-error:0.05\n",
      "[76]\tvalidation_0-error:0\tvalidation_1-error:0.05\n",
      "[77]\tvalidation_0-error:0\tvalidation_1-error:0.05\n",
      "[78]\tvalidation_0-error:0\tvalidation_1-error:0.05\n",
      "[79]\tvalidation_0-error:0\tvalidation_1-error:0.05\n",
      "[80]\tvalidation_0-error:0\tvalidation_1-error:0.05\n",
      "[81]\tvalidation_0-error:0\tvalidation_1-error:0.05\n",
      "[82]\tvalidation_0-error:0\tvalidation_1-error:0.05\n",
      "[83]\tvalidation_0-error:0\tvalidation_1-error:0.05\n",
      "[84]\tvalidation_0-error:0\tvalidation_1-error:0.05\n",
      "[85]\tvalidation_0-error:0\tvalidation_1-error:0.05\n",
      "[86]\tvalidation_0-error:0\tvalidation_1-error:0.05\n",
      "[87]\tvalidation_0-error:0\tvalidation_1-error:0.05\n",
      "[88]\tvalidation_0-error:0\tvalidation_1-error:0.055\n",
      "[89]\tvalidation_0-error:0\tvalidation_1-error:0.055\n",
      "[90]\tvalidation_0-error:0\tvalidation_1-error:0.05\n",
      "[91]\tvalidation_0-error:0\tvalidation_1-error:0.055\n",
      "[92]\tvalidation_0-error:0\tvalidation_1-error:0.055\n",
      "[93]\tvalidation_0-error:0\tvalidation_1-error:0.055\n",
      "[94]\tvalidation_0-error:0\tvalidation_1-error:0.055\n",
      "[95]\tvalidation_0-error:0\tvalidation_1-error:0.055\n",
      "[96]\tvalidation_0-error:0\tvalidation_1-error:0.055\n",
      "[97]\tvalidation_0-error:0\tvalidation_1-error:0.055\n",
      "[98]\tvalidation_0-error:0\tvalidation_1-error:0.055\n",
      "[99]\tvalidation_0-error:0\tvalidation_1-error:0.055\n"
     ]
    },
    {
     "data": {
      "text/plain": [
       "XGBClassifier(base_score=0.5, booster='gbtree', colsample_bylevel=1,\n",
       "       colsample_bytree=1, gamma=0, learning_rate=0.1, max_delta_step=0,\n",
       "       max_depth=3, min_child_weight=1, missing=None, n_estimators=100,\n",
       "       n_jobs=1, nthread=None, objective='binary:logistic', random_state=0,\n",
       "       reg_alpha=0, reg_lambda=1, scale_pos_weight=1, seed=None,\n",
       "       silent=True, subsample=1)"
      ]
     },
     "execution_count": 17,
     "metadata": {},
     "output_type": "execute_result"
    }
   ],
   "source": [
    "# Train and evaluate.\n",
    "xgb_model.fit(X_train, y_train, eval_metric=['error'], eval_set=[((X_train, y_train)),(X_test, y_test)])"
   ]
  },
  {
   "cell_type": "markdown",
   "metadata": {
    "deletable": true,
    "editable": true
   },
   "source": [
    "**Note:** You can also use a pandas dataFrame instead of the numpy array."
   ]
  },
  {
   "cell_type": "markdown",
   "metadata": {
    "deletable": true,
    "editable": true
   },
   "source": [
    "Plot the model performance evaluated during the training process to assess model overfitting."
   ]
  },
  {
   "cell_type": "code",
   "execution_count": 18,
   "metadata": {
    "collapsed": true,
    "deletable": true,
    "editable": true
   },
   "outputs": [],
   "source": [
    "# Import the library\n",
    "from matplotlib import pyplot\n",
    "\n",
    "%matplotlib inline"
   ]
  },
  {
   "cell_type": "code",
   "execution_count": 19,
   "metadata": {
    "collapsed": false,
    "deletable": true,
    "editable": true
   },
   "outputs": [
    {
     "data": {
      "text/plain": [
       "Text(0.5,0,'Number of iterations')"
      ]
     },
     "execution_count": 19,
     "metadata": {},
     "output_type": "execute_result"
    },
    {
     "data": {
      "image/png": "[encoded data removed]",
      "text/plain": [
       "<Figure size 576x432 with 1 Axes>"
      ]
     },
     "metadata": {},
     "output_type": "display_data"
    }
   ],
   "source": [
    "# Plot and display the performance evaluation\n",
    "xgb_eval = xgb_model.evals_result()\n",
    "eval_steps = range(len(xgb_eval['validation_0']['error']))\n",
    "\n",
    "fig, ax = pyplot.subplots(1, 1, sharex=True, figsize=(8, 6))\n",
    "\n",
    "ax.plot(eval_steps, [1-x for x in xgb_eval['validation_0']['error']], label='Train')\n",
    "ax.plot(eval_steps, [1-x for x in xgb_eval['validation_1']['error']], label='Test')\n",
    "ax.legend()\n",
    "ax.set_title('Accuracy')\n",
    "ax.set_xlabel('Number of iterations')"
   ]
  },
  {
   "cell_type": "markdown",
   "metadata": {
    "deletable": true,
    "editable": true
   },
   "source": [
    "You can see that there is model overfitting, and there is a decrease in model accuracy after about 60 iterations \n",
    "\n",
    "Select the trained model obtained after 30 iterations."
   ]
  },
  {
   "cell_type": "code",
   "execution_count": 20,
   "metadata": {
    "collapsed": false,
    "deletable": true,
    "editable": true
   },
   "outputs": [],
   "source": [
    "# Select trained model.\n",
    "n_trees = 30\n",
    "y_pred = xgb_model.predict(X_test, ntree_limit= n_trees)"
   ]
  },
  {
   "cell_type": "code",
   "execution_count": 21,
   "metadata": {
    "collapsed": false,
    "deletable": true,
    "editable": true
   },
   "outputs": [
    {
     "name": "stdout",
     "output_type": "stream",
     "text": [
      "Accuracy: 96.0%\n"
     ]
    }
   ],
   "source": [
    "# Check the accuracy of the trained model.\n",
    "accuracy = accuracy_score(y_test, y_pred)\n",
    "\n",
    "print(\"Accuracy: %.1f%%\" % (accuracy * 100.0))"
   ]
  },
  {
   "cell_type": "markdown",
   "metadata": {
    "deletable": true,
    "editable": true
   },
   "source": [
    "**Note:** You will use the accuracy value obtained on the test data to compare the accuracy of the model with default parameters to the accuracy of the model with tuned parameters."
   ]
  },
  {
   "cell_type": "markdown",
   "metadata": {
    "deletable": true,
    "editable": true
   },
   "source": [
    "#### 3.2.2. Use grid search and cross-validation to tune the model "
   ]
  },
  {
   "cell_type": "markdown",
   "metadata": {
    "deletable": true,
    "editable": true
   },
   "source": [
    "You can use grid search and cross-validation to tune your model to achieve better accuracy.\n",
    "\n",
    "XGBoost has an extensive catalog of hyperparameters which provides great flexibility to shape an algorithm’s desired behavior. Here you will the optimize the model tuning which adds an L1 penalty (`reg_alpha`).\n",
    "\n",
    "Use a 5-fold cross-validation because your training data set is small."
   ]
  },
  {
   "cell_type": "markdown",
   "metadata": {
    "deletable": true,
    "editable": true
   },
   "source": [
    "In the cell below, create the XGBoost pipeline and set up the parameter grid for the search."
   ]
  },
  {
   "cell_type": "code",
   "execution_count": 22,
   "metadata": {
    "collapsed": true,
    "deletable": true,
    "editable": true
   },
   "outputs": [],
   "source": [
    "# Create XGBoost pipeline, set up parameter grid.\n",
    "xgb_model_gs = XGBClassifier()\n",
    "parameters = {'reg_alpha': [0.0, 1.0], 'reg_lambda': [0.0, 1.0], 'n_estimators': [n_trees], 'seed': [1337]}"
   ]
  },
  {
   "cell_type": "markdown",
   "metadata": {
    "deletable": true,
    "editable": true
   },
   "source": [
    "Use ``GridSearchCV`` to search for the best parameters over the parameters values that were specified in the previous section."
   ]
  },
  {
   "cell_type": "code",
   "execution_count": 23,
   "metadata": {
    "collapsed": false,
    "deletable": true,
    "editable": true
   },
   "outputs": [
    {
     "name": "stdout",
     "output_type": "stream",
     "text": [
      "Fitting 5 folds for each of 4 candidates, totalling 20 fits\n"
     ]
    },
    {
     "name": "stderr",
     "output_type": "stream",
     "text": [
      "[Parallel(n_jobs=-1)]: Using backend LokyBackend with 16 concurrent workers.\n",
      "[Parallel(n_jobs=-1)]: Done  10 out of  20 | elapsed:    4.3s remaining:    4.3s\n",
      "[Parallel(n_jobs=-1)]: Done  20 out of  20 | elapsed:    4.6s finished\n"
     ]
    },
    {
     "data": {
      "text/plain": [
       "GridSearchCV(cv=5, error_score='raise-deprecating',\n",
       "       estimator=XGBClassifier(base_score=0.5, booster='gbtree', colsample_bylevel=1,\n",
       "       colsample_bytree=1, gamma=0, learning_rate=0.1, max_delta_step=0,\n",
       "       max_depth=3, min_child_weight=1, missing=None, n_estimators=100,\n",
       "       n_jobs=1, nthread=None, objective='binary:logistic', random_state=0,\n",
       "       reg_alpha=0, reg_lambda=1, scale_pos_weight=1, seed=None,\n",
       "       silent=True, subsample=1),\n",
       "       fit_params=None, iid='warn', n_jobs=-1,\n",
       "       param_grid={'seed': [1337], 'reg_alpha': [0.0, 1.0], 'n_estimators': [30], 'reg_lambda': [0.0, 1.0]},\n",
       "       pre_dispatch='2*n_jobs', refit=True, return_train_score='warn',\n",
       "       scoring='accuracy', verbose=1)"
      ]
     },
     "execution_count": 23,
     "metadata": {},
     "output_type": "execute_result"
    }
   ],
   "source": [
    "# Search for the best parameters.\n",
    "clf = GridSearchCV(xgb_model_gs, parameters, scoring='accuracy', cv=5, verbose=1, n_jobs=-1, refit=True)\n",
    "clf.fit(X_train, y_train)"
   ]
  },
  {
   "cell_type": "markdown",
   "metadata": {
    "deletable": true,
    "editable": true
   },
   "source": [
    "From the grid scores, you can see the performance result of all parameter combinations including the best parameter combination based on model performance."
   ]
  },
  {
   "cell_type": "code",
   "execution_count": 29,
   "metadata": {
    "collapsed": false,
    "deletable": true,
    "editable": true
   },
   "outputs": [
    {
     "name": "stderr",
     "output_type": "stream",
     "text": [
      "/opt/conda/lib/python3.5/site-packages/sklearn/utils/deprecation.py:125: FutureWarning: You are accessing a training score ('mean_train_score'), which will not be available by default any more in 0.21. If you need training scores, please set return_train_score=True\n",
      "  warnings.warn(*warn_args, **warn_kwargs)\n",
      "/opt/conda/lib/python3.5/site-packages/sklearn/utils/deprecation.py:125: FutureWarning: You are accessing a training score ('split0_train_score'), which will not be available by default any more in 0.21. If you need training scores, please set return_train_score=True\n",
      "  warnings.warn(*warn_args, **warn_kwargs)\n",
      "/opt/conda/lib/python3.5/site-packages/sklearn/utils/deprecation.py:125: FutureWarning: You are accessing a training score ('split1_train_score'), which will not be available by default any more in 0.21. If you need training scores, please set return_train_score=True\n",
      "  warnings.warn(*warn_args, **warn_kwargs)\n",
      "/opt/conda/lib/python3.5/site-packages/sklearn/utils/deprecation.py:125: FutureWarning: You are accessing a training score ('split2_train_score'), which will not be available by default any more in 0.21. If you need training scores, please set return_train_score=True\n",
      "  warnings.warn(*warn_args, **warn_kwargs)\n",
      "/opt/conda/lib/python3.5/site-packages/sklearn/utils/deprecation.py:125: FutureWarning: You are accessing a training score ('split3_train_score'), which will not be available by default any more in 0.21. If you need training scores, please set return_train_score=True\n",
      "  warnings.warn(*warn_args, **warn_kwargs)\n",
      "/opt/conda/lib/python3.5/site-packages/sklearn/utils/deprecation.py:125: FutureWarning: You are accessing a training score ('split4_train_score'), which will not be available by default any more in 0.21. If you need training scores, please set return_train_score=True\n",
      "  warnings.warn(*warn_args, **warn_kwargs)\n",
      "/opt/conda/lib/python3.5/site-packages/sklearn/utils/deprecation.py:125: FutureWarning: You are accessing a training score ('std_train_score'), which will not be available by default any more in 0.21. If you need training scores, please set return_train_score=True\n",
      "  warnings.warn(*warn_args, **warn_kwargs)\n"
     ]
    },
    {
     "data": {
      "text/plain": [
       "{'mean_fit_time': array([0.02649236, 0.0268734 , 0.02875237, 0.02856092]),\n",
       " 'mean_score_time': array([0.00127101, 0.00124617, 0.00111513, 0.0009069 ]),\n",
       " 'mean_test_score': array([0.94579946, 0.94850949, 0.95121951, 0.95121951]),\n",
       " 'mean_train_score': array([0.99660785, 0.99593217, 0.99660785, 0.99525421]),\n",
       " 'param_n_estimators': masked_array(data=[30, 30, 30, 30],\n",
       "              mask=[False, False, False, False],\n",
       "        fill_value='?',\n",
       "             dtype=object),\n",
       " 'param_reg_alpha': masked_array(data=[0.0, 0.0, 1.0, 1.0],\n",
       "              mask=[False, False, False, False],\n",
       "        fill_value='?',\n",
       "             dtype=object),\n",
       " 'param_reg_lambda': masked_array(data=[0.0, 1.0, 0.0, 1.0],\n",
       "              mask=[False, False, False, False],\n",
       "        fill_value='?',\n",
       "             dtype=object),\n",
       " 'param_seed': masked_array(data=[1337, 1337, 1337, 1337],\n",
       "              mask=[False, False, False, False],\n",
       "        fill_value='?',\n",
       "             dtype=object),\n",
       " 'params': [{'n_estimators': 30,\n",
       "   'reg_alpha': 0.0,\n",
       "   'reg_lambda': 0.0,\n",
       "   'seed': 1337},\n",
       "  {'n_estimators': 30, 'reg_alpha': 0.0, 'reg_lambda': 1.0, 'seed': 1337},\n",
       "  {'n_estimators': 30, 'reg_alpha': 1.0, 'reg_lambda': 0.0, 'seed': 1337},\n",
       "  {'n_estimators': 30, 'reg_alpha': 1.0, 'reg_lambda': 1.0, 'seed': 1337}],\n",
       " 'rank_test_score': array([4, 3, 1, 1], dtype=int32),\n",
       " 'split0_test_score': array([0.94666667, 0.94666667, 0.94666667, 0.94666667]),\n",
       " 'split0_train_score': array([0.99319728, 0.99319728, 0.99319728, 0.99319728]),\n",
       " 'split1_test_score': array([0.91891892, 0.90540541, 0.90540541, 0.90540541]),\n",
       " 'split1_train_score': array([0.99661017, 0.99661017, 0.99661017, 0.99661017]),\n",
       " 'split2_test_score': array([0.94594595, 0.95945946, 0.95945946, 0.95945946]),\n",
       " 'split2_train_score': array([0.99661017, 0.99661017, 0.99661017, 0.99322034]),\n",
       " 'split3_test_score': array([0.97260274, 0.97260274, 0.98630137, 0.98630137]),\n",
       " 'split3_train_score': array([0.99662162, 0.99324324, 0.99662162, 0.99324324]),\n",
       " 'split4_test_score': array([0.94520548, 0.95890411, 0.95890411, 0.95890411]),\n",
       " 'split4_train_score': array([1., 1., 1., 1.]),\n",
       " 'std_fit_time': array([0.00157058, 0.0024923 , 0.00068562, 0.00071546]),\n",
       " 'std_score_time': array([7.75853767e-05, 1.60935430e-04, 3.10000635e-05, 1.04405279e-04]),\n",
       " 'std_test_score': array([0.01694866, 0.02309868, 0.02634227, 0.02634227]),\n",
       " 'std_train_score': array([0.00215123, 0.00253679, 0.00215123, 0.00271193])}"
      ]
     },
     "execution_count": 29,
     "metadata": {},
     "output_type": "execute_result"
    }
   ],
   "source": [
    "# View the performance result.\n",
    "clf.cv_results_"
   ]
  },
  {
   "cell_type": "markdown",
   "metadata": {
    "deletable": true,
    "editable": true
   },
   "source": [
    "Display the accuracy estimated using cross-validation and the hyperparameter values for the best model."
   ]
  },
  {
   "cell_type": "code",
   "execution_count": 30,
   "metadata": {
    "collapsed": false,
    "deletable": true,
    "editable": true,
    "scrolled": true
   },
   "outputs": [
    {
     "name": "stdout",
     "output_type": "stream",
     "text": [
      "Best score: 95.1%\n",
      "Best parameter set: {'seed': 1337, 'reg_alpha': 1.0, 'n_estimators': 30, 'reg_lambda': 0.0}\n"
     ]
    }
   ],
   "source": [
    "print(\"Best score: %.1f%%\" % (clf.best_score_*100))\n",
    "print(\"Best parameter set: %s\" % (clf.best_params_))"
   ]
  },
  {
   "cell_type": "markdown",
   "metadata": {
    "deletable": true,
    "editable": true
   },
   "source": [
    "Display the accuracy of best parameter combination on the test set."
   ]
  },
  {
   "cell_type": "code",
   "execution_count": 31,
   "metadata": {
    "collapsed": false,
    "deletable": true,
    "editable": true
   },
   "outputs": [
    {
     "name": "stdout",
     "output_type": "stream",
     "text": [
      "Accuracy: 96.0%\n"
     ]
    }
   ],
   "source": [
    "y_pred = clf.best_estimator_.predict(X_test, ntree_limit= n_trees)\n",
    "\n",
    "accuracy = accuracy_score(y_test, y_pred)\n",
    "print(\"Accuracy: %.1f%%\" % (accuracy * 100.0))"
   ]
  },
  {
   "cell_type": "markdown",
   "metadata": {
    "deletable": true,
    "editable": true
   },
   "source": [
    "The accuracy on test set is about the same for tuned model as it is for the trained model that has default hyperparameters values, even though the selected hyperparameters are different to the default parameters."
   ]
  },
  {
   "cell_type": "markdown",
   "metadata": {
    "deletable": true,
    "editable": true
   },
   "source": [
    "#### 3.2.3. Model with pipeline data preprocessing"
   ]
  },
  {
   "cell_type": "markdown",
   "metadata": {
    "deletable": true,
    "editable": true
   },
   "source": [
    "Here you learn how to use the XGBoost model within the scikit-learn pipeline. \n",
    "\n",
    "Let's start by importing the required objects."
   ]
  },
  {
   "cell_type": "code",
   "execution_count": 32,
   "metadata": {
    "collapsed": true,
    "deletable": true,
    "editable": true
   },
   "outputs": [],
   "source": [
    "from sklearn.pipeline import Pipeline\n",
    "from sklearn.decomposition import PCA"
   ]
  },
  {
   "cell_type": "code",
   "execution_count": 33,
   "metadata": {
    "collapsed": true,
    "deletable": true,
    "editable": true
   },
   "outputs": [],
   "source": [
    "pca = PCA(n_components=10)\n",
    "xgb_model_pca = XGBClassifier(n_estimators=n_trees)\n",
    "pipeline = Pipeline(steps=[('pca', pca), ('xgb', xgb_model_pca)])"
   ]
  },
  {
   "cell_type": "code",
   "execution_count": 34,
   "metadata": {
    "collapsed": false,
    "deletable": true,
    "editable": true
   },
   "outputs": [
    {
     "data": {
      "text/plain": [
       "Pipeline(memory=None,\n",
       "     steps=[('pca', PCA(copy=True, iterated_power='auto', n_components=10, random_state=None,\n",
       "  svd_solver='auto', tol=0.0, whiten=False)), ('xgb', XGBClassifier(base_score=0.5, booster='gbtree', colsample_bylevel=1,\n",
       "       colsample_bytree=1, gamma=0, learning_rate=0.1, max_delta_step=0,\n",
       "       max_dept...\n",
       "       reg_alpha=0, reg_lambda=1, scale_pos_weight=1, seed=None,\n",
       "       silent=True, subsample=1))])"
      ]
     },
     "execution_count": 34,
     "metadata": {},
     "output_type": "execute_result"
    }
   ],
   "source": [
    "pipeline.fit(X_train, y_train)"
   ]
  },
  {
   "cell_type": "markdown",
   "metadata": {
    "deletable": true,
    "editable": true
   },
   "source": [
    "Now you are ready to evaluate accuracy of the model trained on the reduced set of features."
   ]
  },
  {
   "cell_type": "code",
   "execution_count": 35,
   "metadata": {
    "collapsed": false,
    "deletable": true,
    "editable": true
   },
   "outputs": [
    {
     "name": "stdout",
     "output_type": "stream",
     "text": [
      "Accuracy: 95.5%\n"
     ]
    }
   ],
   "source": [
    "y_pred = pipeline.predict(X_test)\n",
    "accuracy = accuracy_score(y_test, y_pred)\n",
    "print(\"Accuracy: %.1f%%\" % (accuracy * 100.0))"
   ]
  },
  {
   "cell_type": "markdown",
   "metadata": {
    "deletable": true,
    "editable": true
   },
   "source": [
    "You can see that this model has a similar accuracy to the model trained using default hyperparameter values."
   ]
  },
  {
   "cell_type": "markdown",
   "metadata": {
    "deletable": true,
    "editable": true
   },
   "source": [
    "Let's see how you can save your XGBoost pipeline using the WML service instance and deploy it for online scoring."
   ]
  },
  {
   "cell_type": "markdown",
   "metadata": {
    "deletable": true,
    "editable": true
   },
   "source": [
    "<a id=\"persistence\"></a>\n",
    "## 4. Persist model"
   ]
  },
  {
   "cell_type": "markdown",
   "metadata": {
    "deletable": true,
    "editable": true
   },
   "source": [
    "In this section you learn how to use the Python client libraries to store your XGBoost model in the WML repository.\n",
    "\n",
    "First, you must import client libraries."
   ]
  },
  {
   "cell_type": "code",
   "execution_count": 47,
   "metadata": {
    "collapsed": false,
    "deletable": true,
    "editable": true
   },
   "outputs": [
    {
     "data": {
      "text/plain": [
       "{'path': '/user-home/1002/DSX_Projects/Breast Cancer Malignancy/models/XGBoostTumorClassification/1',\n",
       " 'scoring_endpoint': 'https://dsxl-api/v3/project/score/Python35/scikit-learn-0.20/Breast%20Cancer%20Malignancy/XGBoostTumorClassification/1'}"
      ]
     },
     "execution_count": 47,
     "metadata": {},
     "output_type": "execute_result"
    }
   ],
   "source": [
    "from dsx_ml.ml import save\n",
    "\n",
    "save(name='XGBoostTumorClassification',\n",
    "     model=pipeline,\n",
    "     x_test=pd.DataFrame(X_test),\n",
    "     y_test=pd.DataFrame(y_test),\n",
    "     algorithm_type='Classification',\n",
    "     source='Use XGBoost to classify tumors.ipynb',\n",
    "     description='Tumor Malignancy Classifiation with XGBoost')"
   ]
  },
  {
   "cell_type": "markdown",
   "metadata": {
    "deletable": true,
    "editable": true
   },
   "source": [
    "Authenticate to the Watson Machine Learning service on IBM Cloud.\n",
    "\n",
    "**Tip**: Authentication information (your credentials) can be found in the [Service Credentials](https://console.bluemix.net/docs/services/service_credentials.html#service_credentials) tab of the service instance that you created on IBM Cloud. <BR>If you cannot see the **instance_id** field in **Service Credentials**, click **New credential (+)** to generate new authentication information. \n",
    "\n",
    "**Action**: Enter your Watson Machine Learning service instance credentials here."
   ]
  },
  {
   "cell_type": "code",
   "execution_count": 32,
   "metadata": {
    "collapsed": true,
    "deletable": true,
    "editable": true
   },
   "outputs": [],
   "source": [
    "#wml_credentials = {\n",
    " # \"url\": \"https://ibm-watson-ml.mybluemix.net\",\n",
    "  #\"access_key\": \"***\",\n",
    "  #\"username\": \"***\",\n",
    "  #\"password\": \"***\",\n",
    "  #\"instance_id\": \"***\"\n",
    "#}"
   ]
  },
  {
   "cell_type": "code",
   "execution_count": 33,
   "metadata": {
    "collapsed": true,
    "deletable": true,
    "editable": true
   },
   "outputs": [],
   "source": [
    "# The code was removed by DSX for sharing."
   ]
  },
  {
   "cell_type": "code",
   "execution_count": 34,
   "metadata": {
    "collapsed": true,
    "deletable": true,
    "editable": true
   },
   "outputs": [],
   "source": [
    "client = WatsonMachineLearningAPIClient(wml_credentials)"
   ]
  },
  {
   "cell_type": "markdown",
   "metadata": {
    "deletable": true,
    "editable": true
   },
   "source": [
    "### 4.1. Save the XGBoost model to the WML Repository\n",
    "\n",
    "Save the model artifact as *XGBoost model for breast cancer* to your WML instance."
   ]
  },
  {
   "cell_type": "code",
   "execution_count": 35,
   "metadata": {
    "collapsed": true,
    "deletable": true,
    "editable": true
   },
   "outputs": [],
   "source": [
    "model_props = {client.repository.ModelMetaNames.NAME: \"XGBoost model for breast cancer\"}\n",
    "model_details = client.repository.store_model(pipeline, model_props)"
   ]
  },
  {
   "cell_type": "markdown",
   "metadata": {
    "deletable": true,
    "editable": true
   },
   "source": [
    "Get the saved model metadata from WML."
   ]
  },
  {
   "cell_type": "markdown",
   "metadata": {
    "deletable": true,
    "editable": true
   },
   "source": [
    "# 5. Deploy and score in the IBM Cloud\n"
   ]
  },
  {
   "cell_type": "markdown",
   "metadata": {
    "deletable": true,
    "editable": true
   },
   "source": [
    "In this section you will learn how to use WML to create online scoring and score a new data record."
   ]
  },
  {
   "cell_type": "markdown",
   "metadata": {
    "deletable": true,
    "editable": true
   },
   "source": [
    "You can list all stored models using the  `list_models` method."
   ]
  },
  {
   "cell_type": "code",
   "execution_count": 36,
   "metadata": {
    "collapsed": false,
    "deletable": true,
    "editable": true
   },
   "outputs": [
    {
     "name": "stdout",
     "output_type": "stream",
     "text": [
      "------------------------------------  -------------------------------  ------------------------  -----------------\n",
      "GUID                                  NAME                             CREATED                   FRAMEWORK\n",
      "6b76f1d7-aff2-445d-b816-0c4c573fbf7d  Product Line Prediction          2018-02-18T19:51:57.776Z  mllib-2.0\n",
      "4b7c9d27-6ca3-4b89-b726-9dd32ccb3958  Tumor_Type_Detection_v1_pipe     2018-03-18T23:37:40.678Z  scikit-learn-0.19\n",
      "7c60098c-5c16-47f8-89e6-f72a629a9bff  My cool mnist model              2018-03-19T09:42:42.204Z  tensorflow-1.5\n",
      "5999a2d9-e22c-424e-839f-d1f9c37ba8c0  XGBoost model for breast cancer  2018-03-29T14:00:39.597Z  scikit-learn-0.19\n",
      "bc1104f5-9bba-4bf4-a8cc-34eff218ae4a  XGBoost model for breast cancer  2018-04-03T10:05:17.385Z  scikit-learn-0.19\n",
      "5eb68ad4-1f39-4b1f-9687-0a071907aed0  XGBoost model for breast cancer  2018-04-05T11:33:31.059Z  scikit-learn-0.19\n",
      "950423e2-f164-4094-89af-44f005acaf77  XGBoost model for breast cancer  2018-04-05T12:27:33.111Z  scikit-learn-0.19\n",
      "------------------------------------  -------------------------------  ------------------------  -----------------\n"
     ]
    }
   ],
   "source": [
    "# Display a list of all the models.\n",
    "client.repository.list_models()"
   ]
  },
  {
   "cell_type": "markdown",
   "metadata": {
    "deletable": true,
    "editable": true
   },
   "source": [
    "You need the model uid to create the deployment. You can extract the model uid from the saved model details."
   ]
  },
  {
   "cell_type": "code",
   "execution_count": 37,
   "metadata": {
    "collapsed": false,
    "deletable": true,
    "editable": true
   },
   "outputs": [
    {
     "name": "stdout",
     "output_type": "stream",
     "text": [
      "950423e2-f164-4094-89af-44f005acaf77\n"
     ]
    }
   ],
   "source": [
    "# Extract the uid.\n",
    "model_uid = client.repository.get_model_uid(model_details)\n",
    "print(model_uid)"
   ]
  },
  {
   "cell_type": "markdown",
   "metadata": {
    "deletable": true,
    "editable": true
   },
   "source": [
    "Use this modul_uid in the next section to create the deployment."
   ]
  },
  {
   "cell_type": "markdown",
   "metadata": {
    "deletable": true,
    "editable": true
   },
   "source": [
    "### 5.1. Create the model deployment"
   ]
  },
  {
   "cell_type": "markdown",
   "metadata": {
    "deletable": true,
    "editable": true
   },
   "source": [
    "Now you can create a deployment, *Predict breast cancer*."
   ]
  },
  {
   "cell_type": "code",
   "execution_count": 38,
   "metadata": {
    "collapsed": false,
    "deletable": true,
    "editable": true
   },
   "outputs": [
    {
     "name": "stdout",
     "output_type": "stream",
     "text": [
      "\n",
      "\n",
      "#######################################################################################\n",
      "\n",
      "Synchronous deployment creation for uid: 'd8143f44-220c-4a17-a1b1-0d3f61d5d013' started\n",
      "\n",
      "#######################################################################################\n",
      "\n",
      "\n",
      "INITIALIZING\n",
      "DEPLOY_SUCCESS\n",
      "\n",
      "\n",
      "------------------------------------------------------------------------------------------------\n",
      "Successfully finished deployment creation, deployment_uid='d8143f44-220c-4a17-a1b1-0d3f61d5d013'\n",
      "------------------------------------------------------------------------------------------------\n",
      "\n",
      "\n"
     ]
    }
   ],
   "source": [
    "# Create the deployment.\n",
    "deployment_details = client.deployments.create(model_uid, 'Predict breast cancer')"
   ]
  },
  {
   "cell_type": "markdown",
   "metadata": {
    "deletable": true,
    "editable": true
   },
   "source": [
    "Get a list of all deployments."
   ]
  },
  {
   "cell_type": "code",
   "execution_count": 39,
   "metadata": {
    "collapsed": false,
    "deletable": true,
    "editable": true
   },
   "outputs": [
    {
     "name": "stdout",
     "output_type": "stream",
     "text": [
      "------------------------------------  ----------------------  ------  --------------  ------------------------  -----------------\n",
      "GUID                                  NAME                    TYPE    STATE           CREATED                   FRAMEWORK\n",
      "206ce253-eaaa-40f0-9aac-bc0d25e3fe88  online                  online  DEPLOY_SUCCESS  2018-02-18T19:52:22.583Z  mllib-2.0\n",
      "40f24853-f991-4aa1-9936-830f197aa758  Mnist model deployment  online  DEPLOY_SUCCESS  2018-03-19T09:42:58.735Z  tensorflow-1.5\n",
      "d8143f44-220c-4a17-a1b1-0d3f61d5d013  Predict breast cancer   online  DEPLOY_SUCCESS  2018-04-05T12:27:51.539Z  scikit-learn-0.19\n",
      "------------------------------------  ----------------------  ------  --------------  ------------------------  -----------------\n"
     ]
    }
   ],
   "source": [
    "# List the deployments.\n",
    "client.deployments.list()"
   ]
  },
  {
   "cell_type": "markdown",
   "metadata": {
    "deletable": true,
    "editable": true
   },
   "source": [
    "The *Predict breast cancer model* has been successfully deployed."
   ]
  },
  {
   "cell_type": "markdown",
   "metadata": {
    "deletable": true,
    "editable": true
   },
   "source": [
    "### 5.2. Perform prediction"
   ]
  },
  {
   "cell_type": "markdown",
   "metadata": {
    "deletable": true,
    "editable": true
   },
   "source": [
    "Now, extract the url endpoint, *scoring_url*, which will be used to send scoring requests."
   ]
  },
  {
   "cell_type": "code",
   "execution_count": 48,
   "metadata": {
    "collapsed": false,
    "deletable": true,
    "editable": true
   },
   "outputs": [
    {
     "name": "stdout",
     "output_type": "stream",
     "text": [
      "https://dsxl-api/v3/project/score/Python35/scikit-learn-0.20/Breast%20Cancer%20Malignancy/XGBoostTumorClassification/1\n"
     ]
    }
   ],
   "source": [
    "# Extract endpoint url and display it.\n",
    "scoring_url = 'https://dsxl-api/v3/project/score/Python35/scikit-learn-0.20/Breast%20Cancer%20Malignancy/XGBoostTumorClassification/1'\n",
    "print(scoring_url)"
   ]
  },
  {
   "cell_type": "markdown",
   "metadata": {
    "deletable": true,
    "editable": true
   },
   "source": [
    "Prepare the scoring payload with the values to score."
   ]
  },
  {
   "cell_type": "code",
   "execution_count": 57,
   "metadata": {
    "collapsed": false,
    "deletable": true,
    "editable": true
   },
   "outputs": [
    {
     "name": "stdout",
     "output_type": "stream",
     "text": [
      "{'values': [[12.23, 19.56, 78.54, 461.0, 0.09586, 0.08087, 0.04187, 0.04107, 0.1979, 0.06013, 0.3534, 1.326, 2.308, 27.24, 0.007514, 0.01779, 0.01401, 0.0114, 0.01503, 0.003338, 14.44, 28.36, 92.15, 638.4, 0.1429, 0.2042, 0.1377, 0.108, 0.2668, 0.08174]]}\n"
     ]
    }
   ],
   "source": [
    "# Prepare scoring payload.\n",
    "json_payload = [{\"concave points_mean\":0.01171,\"perimeter_se\":1.115,\"fractal_dimension_mean\":0.05581,\"symmetry_se\":0.01619,\"smoothness_worst\":0.09616,\"concave points_se\":0.005905,\"fractal_dimension_se\":0.002081,\"concavity_se\":0.01652,\"compactness_se\":0.01345,\"compactness_mean\":0.03729,\"texture_mean\":13.12,\"radius_mean\":12.89,\"fractal_dimension_worst\":0.06915,\"area_mean\":515.9,\"radius_se\":0.1532,\"symmetry_worst\":0.2309,\"diagnosis\":\"B\",\"concave points_worst\":0.05366,\"area_worst\":577,\"perimeter_mean\":81.89,\"smoothness_se\":0.004731,\"texture_se\":0.469,\"area_se\":12.68,\"compactness_worst\":0.1147,\"symmetry_mean\":0.1337,\"smoothness_mean\":0.06955,\"perimeter_worst\":87.4,\"concavity_worst\":0.1186,\"concavity_mean\":0.0226,\"texture_worst\":15.54,\"radius_worst\":13.62,\"id\":8913}]\n",
    "\n",
    "payload_scoring = {\"values\": [X_test[0].tolist()]}\n",
    "print(payload_scoring)"
   ]
  },
  {
   "cell_type": "code",
   "execution_count": 59,
   "metadata": {
    "collapsed": false,
    "deletable": true,
    "editable": true
   },
   "outputs": [
    {
     "data": {
      "text/plain": [
       "b'{\"success\":true,\"description\":\"Success\",\"object\":\"Internal Server Error\"}'"
      ]
     },
     "execution_count": 59,
     "metadata": {},
     "output_type": "execute_result"
    }
   ],
   "source": [
    "# Perform prediction and display the result.\n",
    "import requests, json, os\n",
    "\n",
    "# this scoring endpoint should be the same as the one returned above\n",
    "scoring_endpoint = 'https://dsxl-api/v3/project/score/Python35/scikit-learn-0.20/Breast%20Cancer%20Malignancy/XGBoostTumorClassification/1'\n",
    "\n",
    "header_online = {'Content-Type': 'application/json', 'Authorization':os.environ['DSX_TOKEN']}\n",
    "response_scoring = requests.post(scoring_endpoint, json=json_payload, headers=header_online)\n",
    "response_scoring.content"
   ]
  },
  {
   "cell_type": "markdown",
   "metadata": {
    "deletable": true,
    "editable": true
   },
   "source": [
    "**Result**: The patient record is classified as a benign tumor."
   ]
  },
  {
   "cell_type": "markdown",
   "metadata": {
    "deletable": true,
    "editable": true
   },
   "source": [
    "<a id=\"summary\"></a>\n",
    "## 6. Summary and next steps     "
   ]
  },
  {
   "cell_type": "markdown",
   "metadata": {
    "deletable": true,
    "editable": true
   },
   "source": [
    "You successfully completed this notebook! \n",
    "\n",
    "You learned how to use XGBoost machine learning as well as Watson Machine Learning to create and deploy a model. \n",
    "\n",
    "Check out our [Online Documentation](https://dataplatform.ibm.com/docs/content/analyze-data/wml-setup.html) for more samples, tutorials, documentation, how-tos, and blog posts. "
   ]
  },
  {
   "cell_type": "markdown",
   "metadata": {
    "deletable": true,
    "editable": true
   },
   "source": [
    "### Data citations\n",
    "\n",
    "Lichman, M. (2013). [UCI Machine Learning Repository](http://archive.ics.uci.edu/ml). Irvine, CA: University of California, School of Information and Computer Science."
   ]
  },
  {
   "cell_type": "markdown",
   "metadata": {
    "deletable": true,
    "editable": true
   },
   "source": [
    "### Author\n",
    "\n",
    "**Wojciech Sobala** is a Data Scientist at IBM."
   ]
  },
  {
   "cell_type": "markdown",
   "metadata": {
    "deletable": true,
    "editable": true
   },
   "source": [
    "Copyright © 2017, 2018 IBM. This notebook and its source code are released under the terms of the MIT License."
   ]
  },
  {
   "cell_type": "markdown",
   "metadata": {
    "deletable": true,
    "editable": true
   },
   "source": [
    "<div style=\"background:#F5F7FA; height:110px; padding: 2em; font-size:14px;\">\n",
    "<span style=\"font-size:18px;color:#152935;\">Love this notebook? </span>\n",
    "<span style=\"font-size:15px;color:#152935;float:right;margin-right:40px;\">Don't have an account yet?</span><br>\n",
    "<span style=\"color:#5A6872;\">Share it with your colleagues and help them discover the power of Watson Studio!</span>\n",
    "<span style=\"border: 1px solid #3d70b2;padding:8px;float:right;margin-right:40px; color:#3d70b2;\"><a href=\"https://ibm.co/wsnotebooks\" target=\"_blank\" style=\"color: #3d70b2;text-decoration: none;\">Sign Up</a></span><br>\n",
    "</div>"
   ]
  }
 ],
 "metadata": {
  "kernelspec": {
   "display_name": "Python3.5 with DSX Spark 2.2.1",
   "language": "python",
   "name": "python3"
  },
  "language_info": {
   "codemirror_mode": {
    "name": "ipython",
    "version": 3
   },
   "file_extension": ".py",
   "mimetype": "text/x-python",
   "name": "python",
   "nbconvert_exporter": "python",
   "pygments_lexer": "ipython3",
   "version": "3.5.2"
  }
 },
 "nbformat": 4,
 "nbformat_minor": 2
}
